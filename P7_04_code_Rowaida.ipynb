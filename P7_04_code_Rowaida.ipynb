{
 "cells": [
  {
   "cell_type": "markdown",
   "id": "5a42c7c0",
   "metadata": {},
   "source": [
    "<a id='sommaire'></a>\n",
    "<h1 style='text-align:center;border:5px double;border-color:gray;'>\n",
    "    <br/>\n",
    "    PROJET 7<br/>\n",
    "    <br/>\n",
    "    \"Effectuez une prédiction de revenus\"\n",
    "    <br/>\n",
    "    <br/>\n",
    "    Partie 2: Etude de modèles<br/>\n",
    "</h1>\n",
    "\n",
    "## [ANOVA de la variable revenus des enfants en fonction du pays](#anova)  \n",
    "* [Vérification de l'hypothèse gaussienne](#verif)  \n",
    "* [Comparaison de l'ANOVA avec le logarithme du revenu de l'individu](#Comparaison)  \n",
    "* [Comparaison de l'ANOVA avec le logarithme du revenu de l'individu](#Comparaison) \n",
    "* [Conclusion](#ccl)  \n",
    "\n",
    "## [Régression linéaire du revenu enfant sur le revenu moyen du pays et l'indice de Gini](#reg1)  \n",
    "* [Tests de significativité](#test1)  \n",
    "* [Passage au logarithme du revenu enfant](#log1)  \n",
    "* [Analyses de $R^2$](#rsq1)  \n",
    "* [Détection des problèmes de colinéarité](#vif1)  \n",
    "* [Test d'homoscédasticité](#breu1)  \n",
    "* [Test de normalité des résidus](#norm1)  \n",
    "\n",
    "## [Régression linéaire du revenu enfant sur le revenu moyen du pays, l'indice de Gini et la classe de revenus des parents](#reg2)  \n",
    "* [Tests de significativité](#test2)  \n",
    "* [Passage au logarithme du revenu enfant](#log2)  \n",
    "* [Analyses de $R^2$](#rsq2)  \n",
    "* [Détection des problèmes de colinéarité](#vif2)  \n",
    "* [Test d'homoscédasticité](#breu2)  \n",
    "* [Test de normalité des résidus](#norm2)  \n",
    "\n",
    "\n",
    "\n",
    "## [Analyses de $R^2$](#rsq1)  \n",
    "* [Analyse de l'atypicité sur les variables explicatives](#atyp1)  \n",
    "* [Analyse de l'atypicité sur la variable à expliquer (residus studentisés)](#atyp1bis)  \n",
    "* [Analyse de l'influence des observations](#infl1)  \n",
    "* [Mesures atypiques et influentes](#atyp_infl1)  \n",
    "  \n",
    "\n",
    "## [Conclusion](#ccl)  "
   ]
  },
  {
   "cell_type": "markdown",
   "id": "0b6920c9",
   "metadata": {},
   "source": [
    "Pour cette mission 4, nous chercherons à expliquer le revenu des individus en fonction de plusieurs variables explicatives : le pays de l'individu, l'indice de Gini de ce pays, la classe de revenus des parents, etc.\n",
    "\n",
    "Appliquez une ANOVA sur vos données, en n’incluant comme variable explicative que le pays de l’individu. Analysez la performance du modèle.\n",
    "<br><br>\n",
    "<div class=\"alert alert-block alert-warning\">  \n",
    "Pour chacune des régressions suivantes, vous testerez 2 versions : l'une en exprimant le revenu moyen du pays et les revenus (parents & enfants) en logarithme (ln), l'autre en les laissant tels quels. Vous choisirez la version la plus performante pour répondre aux question.                                                   \n",
    "</div>  \n",
    "\n",
    "<p>Appliquez une régression linéaire sur vos données, en incluant comme variables explicatives uniquement le revenu moyen du pays de l’individu et l’indice de Gini du pays de l’individu. Quel est le pourcentage de variance expliquée par votre modèle ?\n",
    "                                                            \n",
    "Selon ce modèle, donnez la décomposition de variance totale expliquée par :\n",
    "                                                            \n",
    "- le pays de naissance (ie. le revenu moyen et l’indice de Gini) ;\n",
    "- les autres facteurs non considérés dans le modèle (efforts, chance, etc.).\n",
    "\n",
    "<br>\n",
    "    \n",
    "Améliorez le modèle précédent en incluant maintenant la classe de revenu des parents. Quel est le pourcentage de variance expliquée par ce nouveau modèle ?\n",
    "                                                            \n",
    "En observant le coefficient de régression associé à l’indice de Gini, peut-on affirmer que le fait de vivre dans un pays plus inégalitaire favorise plus de personnes qu’il n’en défavorise ?\n",
    "                                                            \n",
    "Selon ce dernier modèle, donnez la décomposition de variance totale expliquée par :\n",
    "- le pays de naissance et le revenu des parents\n",
    "- les autres facteurs non considérés dans le modèle (efforts, chance, etc.). </p>"
   ]
  },
  {
   "cell_type": "code",
   "execution_count": 9,
   "id": "8a51f617",
   "metadata": {},
   "outputs": [],
   "source": [
    "import numpy as np\n",
    "import pandas as pd\n",
    "import matplotlib.pyplot as plt\n",
    "import seaborn as sns\n",
    "import scipy.stats as st\n",
    "import pingouin as pg\n",
    "import statsmodels\n",
    "import statsmodels.formula.api as smf\n",
    "import statsmodels.api as sm\n",
    "from statsmodels.stats.outliers_influence import variance_inflation_factor"
   ]
  },
  {
   "cell_type": "markdown",
   "id": "3f20f005",
   "metadata": {},
   "source": [
    "<a id='anova'></a>\n",
    "# ANOVA de la variable revenus des enfants en fonction du pays"
   ]
  },
  {
   "cell_type": "markdown",
   "id": "55825d13",
   "metadata": {},
   "source": [
    "[Haut de page](#sommaire)"
   ]
  },
  {
   "cell_type": "markdown",
   "id": "80590c8e",
   "metadata": {},
   "source": [
    "### Mission: Créer un modèle permettant de déterminer le revenu potentiel d'une personne  \n",
    "  \n",
    "\n",
    "* Etude retrospective  \n",
    "* Variable d'intérêt (dépendante, à expliquer): 'y_child' ou 'ln_y_child'  \n",
    "* Facteur (variables indépendantes, explicatives): 'Pays', 'mj', 'ln_mj', 'Gj', 'c_i_parent'  \n",
    "  \n",
    "#### Description des variable:  \n",
    "  \n",
    "**y_child**: revenu  \n",
    "**ln_y_child**: logarithme de y_child  \n",
    "**Pays**: Pays d'appartenance d'un individus  \n",
    "**mj**: revenu moyen par pays  \n",
    "**ln_mj**: logarithme de mj  \n",
    "**Gj**: Indice de Gini du pays  \n",
    "**c_i_parent**: classe de revenu des parent\n",
    "\n",
    "\n",
    "\n",
    "\n",
    "https://www.techno-science.net/glossaire-definition/Analyse-de-la-variance.html"
   ]
  },
  {
   "cell_type": "code",
   "execution_count": 10,
   "id": "6905f8ef",
   "metadata": {
    "scrolled": true
   },
   "outputs": [
    {
     "data": {
      "text/html": [
       "<div>\n",
       "<style scoped>\n",
       "    .dataframe tbody tr th:only-of-type {\n",
       "        vertical-align: middle;\n",
       "    }\n",
       "\n",
       "    .dataframe tbody tr th {\n",
       "        vertical-align: top;\n",
       "    }\n",
       "\n",
       "    .dataframe thead th {\n",
       "        text-align: right;\n",
       "    }\n",
       "</style>\n",
       "<table border=\"1\" class=\"dataframe\">\n",
       "  <thead>\n",
       "    <tr style=\"text-align: right;\">\n",
       "      <th></th>\n",
       "      <th>country</th>\n",
       "      <th>country_code</th>\n",
       "      <th>population</th>\n",
       "      <th>y_child</th>\n",
       "      <th>gdpppp</th>\n",
       "      <th>Gj</th>\n",
       "      <th>mj</th>\n",
       "      <th>pj</th>\n",
       "      <th>c_i_parent</th>\n",
       "      <th>ln_y_child</th>\n",
       "      <th>ln_mj</th>\n",
       "    </tr>\n",
       "  </thead>\n",
       "  <tbody>\n",
       "    <tr>\n",
       "      <th>0</th>\n",
       "      <td>Albania</td>\n",
       "      <td>ALB</td>\n",
       "      <td>2947314.0</td>\n",
       "      <td>728.89795</td>\n",
       "      <td>7297.0</td>\n",
       "      <td>0.321410</td>\n",
       "      <td>2994.829902</td>\n",
       "      <td>0.815874</td>\n",
       "      <td>1</td>\n",
       "      <td>6.591534</td>\n",
       "      <td>8.004643</td>\n",
       "    </tr>\n",
       "    <tr>\n",
       "      <th>1</th>\n",
       "      <td>Albania</td>\n",
       "      <td>ALB</td>\n",
       "      <td>2947314.0</td>\n",
       "      <td>728.89795</td>\n",
       "      <td>7297.0</td>\n",
       "      <td>0.321410</td>\n",
       "      <td>2994.829902</td>\n",
       "      <td>0.815874</td>\n",
       "      <td>1</td>\n",
       "      <td>6.591534</td>\n",
       "      <td>8.004643</td>\n",
       "    </tr>\n",
       "    <tr>\n",
       "      <th>2</th>\n",
       "      <td>Albania</td>\n",
       "      <td>ALB</td>\n",
       "      <td>2947314.0</td>\n",
       "      <td>728.89795</td>\n",
       "      <td>7297.0</td>\n",
       "      <td>0.321410</td>\n",
       "      <td>2994.829902</td>\n",
       "      <td>0.815874</td>\n",
       "      <td>1</td>\n",
       "      <td>6.591534</td>\n",
       "      <td>8.004643</td>\n",
       "    </tr>\n",
       "    <tr>\n",
       "      <th>3</th>\n",
       "      <td>Albania</td>\n",
       "      <td>ALB</td>\n",
       "      <td>2947314.0</td>\n",
       "      <td>728.89795</td>\n",
       "      <td>7297.0</td>\n",
       "      <td>0.321410</td>\n",
       "      <td>2994.829902</td>\n",
       "      <td>0.815874</td>\n",
       "      <td>1</td>\n",
       "      <td>6.591534</td>\n",
       "      <td>8.004643</td>\n",
       "    </tr>\n",
       "    <tr>\n",
       "      <th>4</th>\n",
       "      <td>Albania</td>\n",
       "      <td>ALB</td>\n",
       "      <td>2947314.0</td>\n",
       "      <td>728.89795</td>\n",
       "      <td>7297.0</td>\n",
       "      <td>0.321410</td>\n",
       "      <td>2994.829902</td>\n",
       "      <td>0.815874</td>\n",
       "      <td>1</td>\n",
       "      <td>6.591534</td>\n",
       "      <td>8.004643</td>\n",
       "    </tr>\n",
       "    <tr>\n",
       "      <th>...</th>\n",
       "      <td>...</td>\n",
       "      <td>...</td>\n",
       "      <td>...</td>\n",
       "      <td>...</td>\n",
       "      <td>...</td>\n",
       "      <td>...</td>\n",
       "      <td>...</td>\n",
       "      <td>...</td>\n",
       "      <td>...</td>\n",
       "      <td>...</td>\n",
       "      <td>...</td>\n",
       "    </tr>\n",
       "    <tr>\n",
       "      <th>5799995</th>\n",
       "      <td>Yemen</td>\n",
       "      <td>YEM</td>\n",
       "      <td>21892149.0</td>\n",
       "      <td>9050.43750</td>\n",
       "      <td>2224.0</td>\n",
       "      <td>0.390259</td>\n",
       "      <td>1042.635870</td>\n",
       "      <td>0.400000</td>\n",
       "      <td>100</td>\n",
       "      <td>9.110568</td>\n",
       "      <td>6.949507</td>\n",
       "    </tr>\n",
       "    <tr>\n",
       "      <th>5799996</th>\n",
       "      <td>Yemen</td>\n",
       "      <td>YEM</td>\n",
       "      <td>21892149.0</td>\n",
       "      <td>9050.43750</td>\n",
       "      <td>2224.0</td>\n",
       "      <td>0.390259</td>\n",
       "      <td>1042.635870</td>\n",
       "      <td>0.400000</td>\n",
       "      <td>100</td>\n",
       "      <td>9.110568</td>\n",
       "      <td>6.949507</td>\n",
       "    </tr>\n",
       "    <tr>\n",
       "      <th>5799997</th>\n",
       "      <td>Yemen</td>\n",
       "      <td>YEM</td>\n",
       "      <td>21892149.0</td>\n",
       "      <td>9050.43750</td>\n",
       "      <td>2224.0</td>\n",
       "      <td>0.390259</td>\n",
       "      <td>1042.635870</td>\n",
       "      <td>0.400000</td>\n",
       "      <td>100</td>\n",
       "      <td>9.110568</td>\n",
       "      <td>6.949507</td>\n",
       "    </tr>\n",
       "    <tr>\n",
       "      <th>5799998</th>\n",
       "      <td>Yemen</td>\n",
       "      <td>YEM</td>\n",
       "      <td>21892149.0</td>\n",
       "      <td>9050.43750</td>\n",
       "      <td>2224.0</td>\n",
       "      <td>0.390259</td>\n",
       "      <td>1042.635870</td>\n",
       "      <td>0.400000</td>\n",
       "      <td>100</td>\n",
       "      <td>9.110568</td>\n",
       "      <td>6.949507</td>\n",
       "    </tr>\n",
       "    <tr>\n",
       "      <th>5799999</th>\n",
       "      <td>Yemen</td>\n",
       "      <td>YEM</td>\n",
       "      <td>21892149.0</td>\n",
       "      <td>9050.43750</td>\n",
       "      <td>2224.0</td>\n",
       "      <td>0.390259</td>\n",
       "      <td>1042.635870</td>\n",
       "      <td>0.400000</td>\n",
       "      <td>100</td>\n",
       "      <td>9.110568</td>\n",
       "      <td>6.949507</td>\n",
       "    </tr>\n",
       "  </tbody>\n",
       "</table>\n",
       "<p>5800000 rows × 11 columns</p>\n",
       "</div>"
      ],
      "text/plain": [
       "         country country_code  population     y_child  gdpppp        Gj  \\\n",
       "0        Albania          ALB   2947314.0   728.89795  7297.0  0.321410   \n",
       "1        Albania          ALB   2947314.0   728.89795  7297.0  0.321410   \n",
       "2        Albania          ALB   2947314.0   728.89795  7297.0  0.321410   \n",
       "3        Albania          ALB   2947314.0   728.89795  7297.0  0.321410   \n",
       "4        Albania          ALB   2947314.0   728.89795  7297.0  0.321410   \n",
       "...          ...          ...         ...         ...     ...       ...   \n",
       "5799995    Yemen          YEM  21892149.0  9050.43750  2224.0  0.390259   \n",
       "5799996    Yemen          YEM  21892149.0  9050.43750  2224.0  0.390259   \n",
       "5799997    Yemen          YEM  21892149.0  9050.43750  2224.0  0.390259   \n",
       "5799998    Yemen          YEM  21892149.0  9050.43750  2224.0  0.390259   \n",
       "5799999    Yemen          YEM  21892149.0  9050.43750  2224.0  0.390259   \n",
       "\n",
       "                  mj        pj  c_i_parent  ln_y_child     ln_mj  \n",
       "0        2994.829902  0.815874           1    6.591534  8.004643  \n",
       "1        2994.829902  0.815874           1    6.591534  8.004643  \n",
       "2        2994.829902  0.815874           1    6.591534  8.004643  \n",
       "3        2994.829902  0.815874           1    6.591534  8.004643  \n",
       "4        2994.829902  0.815874           1    6.591534  8.004643  \n",
       "...              ...       ...         ...         ...       ...  \n",
       "5799995  1042.635870  0.400000         100    9.110568  6.949507  \n",
       "5799996  1042.635870  0.400000         100    9.110568  6.949507  \n",
       "5799997  1042.635870  0.400000         100    9.110568  6.949507  \n",
       "5799998  1042.635870  0.400000         100    9.110568  6.949507  \n",
       "5799999  1042.635870  0.400000         100    9.110568  6.949507  \n",
       "\n",
       "[5800000 rows x 11 columns]"
      ]
     },
     "execution_count": 10,
     "metadata": {},
     "output_type": "execute_result"
    }
   ],
   "source": [
    "# Chargement des données\n",
    "df= pd.read_csv('analyse.csv')\n",
    "df"
   ]
  },
  {
   "cell_type": "code",
   "execution_count": 11,
   "id": "f09e6d5b",
   "metadata": {},
   "outputs": [],
   "source": [
    "#storage optimization\n",
    "df['country'] = df['country'].astype('category')\n"
   ]
  },
  {
   "cell_type": "markdown",
   "id": "719121eb",
   "metadata": {},
   "source": [
    "<a id='verif'></a>\n",
    "<h2 style='color:#8677b2'>Vérification de l'hypothèses </h2>"
   ]
  },
  {
   "cell_type": "markdown",
   "id": "099609ad",
   "metadata": {},
   "source": [
    "[Haut de page](#sommaire)"
   ]
  },
  {
   "cell_type": "code",
   "execution_count": 12,
   "id": "bc22852b",
   "metadata": {},
   "outputs": [],
   "source": [
    "# Pour l'ensemble des tests, notre niveau de test sera:\n",
    "alpha = 0.05"
   ]
  },
  {
   "cell_type": "markdown",
   "id": "154fee47",
   "metadata": {},
   "source": [
    "<div class=\"admonition note alert alert-info\" style=\"color:#4cb2ff\">\n",
    "<b>Hypothèses des tests paramétriques : </b>\n",
    "\n",
    "- Les distributions de population sont normales\n",
    "\n",
    "- Les échantillons ont des variances égales\n",
    "    \n",
    "Les conditions de validité de l'analyse de la variance\n",
    "\n",
    "* les résidus sont indépendants.\n",
    "* les résidus suivent une loi Normale de moyenne 0 et de variance = variance résiduelle.\n",
    "* les résidus sont homogènes.\n",
    "    \n",
    "Il est donc nécessaire de vérifier la normalité des distributions et l'homoscédasticité (homogénéité des variances, par des tests de Bartlett ou de Levene par exemple).\n",
    "\n",
    "Si ces hypothèses ne sont pas vérifiées, il est toujours possible d’appliquer une transformations au niveau des réponses (log par exemple), ou bien d’utiliser une ANOVA non-paramétrique (test de Kruskal-Wallis), ou encore de réaliser une ANOVA basée sur des tests de permutations.\n",
    "    \n",
    "    \n",
    "**Le pays d'origine a-t-il une influence sur le revenu?**\\\n",
    "H0: Tous les pays ont le même revenu \\\n",
    "Le pays n'a pas d'influence sur le revenu enfant moyen\\\n",
    "\n",
    "H1: Les revenus dépendent du pays \\\n",
    "Le pays a une influence sur le revenu\n",
    "\n",
    "\n",
    "\n",
    "</div>\n",
    "\n"
   ]
  },
  {
   "cell_type": "markdown",
   "id": "3ffa1229",
   "metadata": {},
   "source": [
    "#### Normality\n"
   ]
  },
  {
   "cell_type": "code",
   "execution_count": 13,
   "id": "76a5e67f",
   "metadata": {},
   "outputs": [
    {
     "data": {
      "image/png": "[encoded data removed]",
      "text/plain": [
       "<Figure size 1080x576 with 1 Axes>"
      ]
     },
     "metadata": {
      "needs_background": "light"
     },
     "output_type": "display_data"
    }
   ],
   "source": [
    "pg.qqplot(df['y_child'], dist='norm', figsize=(15,8))\n",
    "#pg.qqplot : Cette fonction renvoie un nuage de points du quantile des données d'échantillon x par rapport aux quantiles théoriques de la distribution donnée dans dist (par défaut = 'norm').\n",
    "#norm : nom de la distribution ou de la fonction de distribution. La valeur par défaut est « norm » pour un tracé de probabilité normal.\n",
    "plt.savefig('graph/ Plot Anova.jpeg', dpi=300, bbox_inches='tight', pad_inches=0.5);"
   ]
  },
  {
   "cell_type": "code",
   "execution_count": 14,
   "id": "134716b1",
   "metadata": {},
   "outputs": [
    {
     "name": "stderr",
     "output_type": "stream",
     "text": [
      "/Users/RowaidKanaan/opt/anaconda3/lib/python3.9/site-packages/scipy/stats/morestats.py:1760: UserWarning: p-value may not be accurate for N > 5000.\n",
      "  warnings.warn(\"p-value may not be accurate for N > 5000.\")\n"
     ]
    },
    {
     "data": {
      "text/plain": [
       "ShapiroResult(statistic=0.6011691093444824, pvalue=0.0)"
      ]
     },
     "execution_count": 14,
     "metadata": {},
     "output_type": "execute_result"
    }
   ],
   "source": [
    "##  Shapiro-Wilk normality test\n",
    "from scipy import stats\n",
    "stats.shapiro(df['y_child']) "
   ]
  },
  {
   "cell_type": "markdown",
   "id": "e6e08dcd",
   "metadata": {},
   "source": [
    "#### Homoscedasticity"
   ]
  },
  {
   "cell_type": "markdown",
   "id": "cf3b0e8a",
   "metadata": {},
   "source": [
    "<div class=\"admonition note alert alert-info\" style=\"color:#4cb2ff\">\n",
    "Comme pour le test de l'hypothèse de normalité, il existe quelques tests statistiques disponibles pour tester l'hypothèse d'égalité des variances. Certaines méthodes courantes sont le test de Barlett et le test de Levene pour l'égalité des variances. Le choix du test correct dépend également de l'hypothèse de normalité.\n",
    "</div>"
   ]
  },
  {
   "cell_type": "code",
   "execution_count": 15,
   "id": "8c9484fd",
   "metadata": {
    "scrolled": true
   },
   "outputs": [
    {
     "data": {
      "image/png": "[encoded data removed]",
      "text/plain": [
       "<Figure size 1800x576 with 1 Axes>"
      ]
     },
     "metadata": {
      "needs_background": "light"
     },
     "output_type": "display_data"
    }
   ],
   "source": [
    "plt.figure(figsize=(25,8))\n",
    "sns.boxplot(data=df, x='country', y='y_child', showfliers=False)\n",
    "#Dessiner une boîte à moustaches pour montrer les distributions par rapport aux catégories.\n",
    "plt.xticks([])\n",
    "plt.xlabel('country')\n",
    "plt.savefig('data/ Variance des incomes des différents pays - Anova.jpeg', dpi=300, bbox_inches='tight', pad_inches=0.5);"
   ]
  },
  {
   "cell_type": "markdown",
   "id": "ee2d39eb",
   "metadata": {},
   "source": [
    "Les pays semblent assez différentes, même si l'ordre de grandeur de ces écarts n'est pas très grand. La question sera de savoir si ces écarts sont significatifs ou pas. C'est l'ANOVA qui nous permettra de répondre à cette question."
   ]
  },
  {
   "cell_type": "code",
   "execution_count": 16,
   "id": "7f0d3a95",
   "metadata": {},
   "outputs": [
    {
     "ename": "AssertionError",
     "evalue": "",
     "output_type": "error",
     "traceback": [
      "\u001b[0;31m---------------------------------------------------------------------------\u001b[0m",
      "\u001b[0;31mAssertionError\u001b[0m                            Traceback (most recent call last)",
      "\u001b[0;32m/var/folders/_f/26lrg89j2fl2jhbph7w90xbw0000gn/T/ipykernel_1257/533366390.py\u001b[0m in \u001b[0;36m<module>\u001b[0;34m\u001b[0m\n\u001b[0;32m----> 1\u001b[0;31m \u001b[0mpg\u001b[0m\u001b[0;34m.\u001b[0m\u001b[0mhomoscedasticity\u001b[0m\u001b[0;34m(\u001b[0m\u001b[0mdf\u001b[0m\u001b[0;34m,\u001b[0m \u001b[0mdv\u001b[0m\u001b[0;34m=\u001b[0m\u001b[0;34m'y_child'\u001b[0m\u001b[0;34m,\u001b[0m \u001b[0mgroup\u001b[0m\u001b[0;34m=\u001b[0m\u001b[0;34m'pays'\u001b[0m\u001b[0;34m,\u001b[0m \u001b[0mmethod\u001b[0m\u001b[0;34m=\u001b[0m\u001b[0;34m'levene'\u001b[0m\u001b[0;34m,\u001b[0m \u001b[0malpha\u001b[0m\u001b[0;34m=\u001b[0m\u001b[0;36m0.05\u001b[0m\u001b[0;34m)\u001b[0m\u001b[0;34m\u001b[0m\u001b[0;34m\u001b[0m\u001b[0m\n\u001b[0m\u001b[1;32m      2\u001b[0m \u001b[0;34m\u001b[0m\u001b[0m\n",
      "\u001b[0;32m~/opt/anaconda3/lib/python3.9/site-packages/pingouin/distribution.py\u001b[0m in \u001b[0;36mhomoscedasticity\u001b[0;34m(data, dv, group, method, alpha, **kwargs)\u001b[0m\n\u001b[1;32m    376\u001b[0m         \u001b[0;32melse\u001b[0m\u001b[0;34m:\u001b[0m\u001b[0;34m\u001b[0m\u001b[0;34m\u001b[0m\u001b[0m\n\u001b[1;32m    377\u001b[0m             \u001b[0;31m# Long-format\u001b[0m\u001b[0;34m\u001b[0m\u001b[0;34m\u001b[0m\u001b[0m\n\u001b[0;32m--> 378\u001b[0;31m             \u001b[0;32massert\u001b[0m \u001b[0mgroup\u001b[0m \u001b[0;32min\u001b[0m \u001b[0mdata\u001b[0m\u001b[0;34m.\u001b[0m\u001b[0mcolumns\u001b[0m\u001b[0;34m\u001b[0m\u001b[0;34m\u001b[0m\u001b[0m\n\u001b[0m\u001b[1;32m    379\u001b[0m             \u001b[0;32massert\u001b[0m \u001b[0mdv\u001b[0m \u001b[0;32min\u001b[0m \u001b[0mdata\u001b[0m\u001b[0;34m.\u001b[0m\u001b[0mcolumns\u001b[0m\u001b[0;34m\u001b[0m\u001b[0;34m\u001b[0m\u001b[0m\n\u001b[1;32m    380\u001b[0m             \u001b[0mgrp\u001b[0m \u001b[0;34m=\u001b[0m \u001b[0mdata\u001b[0m\u001b[0;34m.\u001b[0m\u001b[0mgroupby\u001b[0m\u001b[0;34m(\u001b[0m\u001b[0mgroup\u001b[0m\u001b[0;34m,\u001b[0m \u001b[0mobserved\u001b[0m\u001b[0;34m=\u001b[0m\u001b[0;32mTrue\u001b[0m\u001b[0;34m)\u001b[0m\u001b[0;34m[\u001b[0m\u001b[0mdv\u001b[0m\u001b[0;34m]\u001b[0m\u001b[0;34m\u001b[0m\u001b[0;34m\u001b[0m\u001b[0m\n",
      "\u001b[0;31mAssertionError\u001b[0m: "
     ]
    }
   ],
   "source": [
    "pg.homoscedasticity(df, dv='y_child', group='pays', method='levene', alpha=0.05)\n",
    "\n"
   ]
  },
  {
   "cell_type": "markdown",
   "id": "7c98c15a",
   "metadata": {},
   "source": [
    "La p-valeur de ce test (~0.0) est très petite et largement inférieure à 5%. On rejette donc l'hypothèse H0 selon laquelle . Le pays a donc bien une influence sur le revenu moyen des individus, comme nous en avions l'intuition en regardant les boxplot…"
   ]
  },
  {
   "cell_type": "markdown",
   "id": "30bf1aa1",
   "metadata": {},
   "source": [
    "En fait, même si les hypothèses du modèle linéaire ne sont pas respectées, il se pourrait que tout aille bien tout de même .\n",
    " La raison à cela, , le modèle linéaire est robuste, c'est-à-dire que sous réserve qu'il y ait une taille d'échantillon suffisante, les résultats du modèle linéaire restent valables.\n",
    " \n",
    " les tests révéler que les résidus ne sont ni gaussiens, ni homoscédastiques. , en vrai, l'application du modèle linéaire n'exige pas un respect exact des hypothèses, mais un respect approximatif "
   ]
  },
  {
   "cell_type": "markdown",
   "id": "3768d07a",
   "metadata": {},
   "source": [
    "# Data transformation"
   ]
  },
  {
   "cell_type": "code",
   "execution_count": null,
   "id": "42ae00fa",
   "metadata": {},
   "outputs": [],
   "source": [
    "#normality \n",
    "pg.qqplot(df['ln_y_child'], dist='norm', figsize=(15,8))\n",
    "plt.savefig('data/ Plot log - Anova.jpeg', dpi=300, bbox_inches='tight', pad_inches=0.5);"
   ]
  },
  {
   "cell_type": "code",
   "execution_count": null,
   "id": "42ee8996",
   "metadata": {
    "scrolled": false
   },
   "outputs": [],
   "source": [
    "#homoscedasticity\n",
    "plt.figure(figsize=(25,8))\n",
    "sns.boxplot(data=df, x='pays', y='ln_y_child', showfliers=False)\n",
    "plt.xticks([])\n",
    "plt.xlabel('Pays')\n",
    "plt.savefig('data/ Variance des incomes des différents pays - log - Anova.jpeg', dpi=300, bbox_inches='tight',   pad_inches=0.5);"
   ]
  },
  {
   "cell_type": "code",
   "execution_count": null,
   "id": "8ec47e96",
   "metadata": {},
   "outputs": [],
   "source": [
    "pg.homoscedasticity(df, dv='ln_y_child', group='pays', method='levene', alpha=0.05)"
   ]
  },
  {
   "cell_type": "markdown",
   "id": "77c3c2aa",
   "metadata": {},
   "source": [
    "#### Conclusion"
   ]
  },
  {
   "cell_type": "markdown",
   "id": "6e50913c",
   "metadata": {},
   "source": [
    "<div class=\"admonition note alert alert-info\" style=\"color:#4cb2ff\">\n",
    "Bien que la transformation des données permette de se rapprocher un peu plus d'une distribution normale, l'homogénéité des variances n'est toujours pas respectée.\n",
    "\n",
    "<br><br>\n",
    "Pour continuer, nous réalisons donc un test de Kruskal-Wallis, qui est un test non paramétrique.    \n",
    "    \n",
    "    \n"
   ]
  },
  {
   "cell_type": "markdown",
   "id": "732d038d",
   "metadata": {},
   "source": [
    "### The Kruskal-Wallis test"
   ]
  },
  {
   "cell_type": "markdown",
   "id": "d5cd5091",
   "metadata": {},
   "source": [
    "$\\left\\{\n",
    "\\begin{array}{l}\n",
    " H_0\\ : \\ \\bar{x}_1 = \\bar{x}_2 = \\bar{x}_k,\\ les\\ deux\\ variables\\ étudiées\\ sont\\ donc\\ indépendantes \\\\\n",
    " H_1\\ : \\ \\bar{x}_1 ≠ \\bar{x}_2 ≠ \\bar{x}_k,\\ les\\ deux\\ variables\\ sont\\ donc\\ dépendantes\n",
    "\\end{array}\n",
    "\\right.$"
   ]
  },
  {
   "cell_type": "markdown",
   "id": "c1442354",
   "metadata": {},
   "source": [
    "<div class=\"admonition note alert alert-info\" style=\"color:#4cb2ff\">\n",
    "<b>NB :</b>\n",
    "Le test de Kruskal-Wallis concerne l'analyse des médianes et non des moyennes</div>"
   ]
  },
  {
   "cell_type": "code",
   "execution_count": 17,
   "id": "379d6cf5",
   "metadata": {
    "scrolled": false
   },
   "outputs": [
    {
     "data": {
      "text/html": [
       "<div>\n",
       "<style scoped>\n",
       "    .dataframe tbody tr th:only-of-type {\n",
       "        vertical-align: middle;\n",
       "    }\n",
       "\n",
       "    .dataframe tbody tr th {\n",
       "        vertical-align: top;\n",
       "    }\n",
       "\n",
       "    .dataframe thead th {\n",
       "        text-align: right;\n",
       "    }\n",
       "</style>\n",
       "<table border=\"1\" class=\"dataframe\">\n",
       "  <thead>\n",
       "    <tr style=\"text-align: right;\">\n",
       "      <th></th>\n",
       "      <th>Source</th>\n",
       "      <th>ddof1</th>\n",
       "      <th>H</th>\n",
       "      <th>p-unc</th>\n",
       "    </tr>\n",
       "  </thead>\n",
       "  <tbody>\n",
       "    <tr>\n",
       "      <th>Kruskal</th>\n",
       "      <td>country</td>\n",
       "      <td>115</td>\n",
       "      <td>4.297172e+06</td>\n",
       "      <td>0.0</td>\n",
       "    </tr>\n",
       "  </tbody>\n",
       "</table>\n",
       "</div>"
      ],
      "text/plain": [
       "          Source  ddof1             H  p-unc\n",
       "Kruskal  country    115  4.297172e+06    0.0"
      ]
     },
     "execution_count": 17,
     "metadata": {},
     "output_type": "execute_result"
    }
   ],
   "source": [
    "#α risk \n",
    "α = 0.05\n",
    "\n",
    "#Kruskal-Wallis test\n",
    "krskl = pg.kruskal(data=df, dv='y_child', between='country')\n",
    "krskl"
   ]
  },
  {
   "cell_type": "markdown",
   "id": "fe2b6b24",
   "metadata": {},
   "source": [
    "<div class=\"admonition note alert alert-info\" style=\"color:#4cb2ff\">\n",
    "<b>\"Plus nous avons de données disponibles, plus l'ANOVA est capable de résister à un écart significatif par rapport aux hypothèses.\"</b> \n",
    "<br><br>    \n",
    "<a href='http://perso.ens-lyon.fr/lise.vaudor/non-respect-des-hypotheses-du-modele-lineaire-anova-regression-cest-grave-docteur/'> Interesting source about non respect of ANOVA hypothesis</a> \n",
    "</div>"
   ]
  },
  {
   "cell_type": "markdown",
   "id": "189706a8",
   "metadata": {},
   "source": [
    "\n",
    "<a id='Comparaison'></a>\n",
    "<h2 style='color:#8677b2'>Comparaison de l'ANOVA avec le logarithme du revenu de l'individu</h2>"
   ]
  },
  {
   "cell_type": "code",
   "execution_count": 18,
   "id": "808bc463",
   "metadata": {},
   "outputs": [
    {
     "data": {
      "text/html": [
       "<div>\n",
       "<style scoped>\n",
       "    .dataframe tbody tr th:only-of-type {\n",
       "        vertical-align: middle;\n",
       "    }\n",
       "\n",
       "    .dataframe tbody tr th {\n",
       "        vertical-align: top;\n",
       "    }\n",
       "\n",
       "    .dataframe thead th {\n",
       "        text-align: right;\n",
       "    }\n",
       "</style>\n",
       "<table border=\"1\" class=\"dataframe\">\n",
       "  <thead>\n",
       "    <tr style=\"text-align: right;\">\n",
       "      <th></th>\n",
       "      <th>Source</th>\n",
       "      <th>ddof1</th>\n",
       "      <th>ddof2</th>\n",
       "      <th>F</th>\n",
       "      <th>p-unc</th>\n",
       "      <th>np2</th>\n",
       "    </tr>\n",
       "  </thead>\n",
       "  <tbody>\n",
       "    <tr>\n",
       "      <th>0</th>\n",
       "      <td>country</td>\n",
       "      <td>115</td>\n",
       "      <td>5799884</td>\n",
       "      <td>49710.75889</td>\n",
       "      <td>0.0</td>\n",
       "      <td>0.49639</td>\n",
       "    </tr>\n",
       "  </tbody>\n",
       "</table>\n",
       "</div>"
      ],
      "text/plain": [
       "    Source  ddof1    ddof2            F  p-unc      np2\n",
       "0  country    115  5799884  49710.75889    0.0  0.49639"
      ]
     },
     "execution_count": 18,
     "metadata": {},
     "output_type": "execute_result"
    }
   ],
   "source": [
    "pg.anova(data=df, dv='y_child', between='country', detailed=False)"
   ]
  },
  {
   "cell_type": "code",
   "execution_count": null,
   "id": "c31c207b",
   "metadata": {},
   "outputs": [],
   "source": []
  },
  {
   "cell_type": "markdown",
   "id": "536d6419",
   "metadata": {},
   "source": [
    "R² = 0.496, on peut en conclure que la variable explicative Pays explique près de 50% de la variance du revenu de l'individu. Le reste, donc la moitié de la variance sur le revenu est expliquée par les autres facteurs non considérés dans ce modèle."
   ]
  },
  {
   "cell_type": "code",
   "execution_count": 19,
   "id": "7f757f99",
   "metadata": {},
   "outputs": [
    {
     "data": {
      "text/html": [
       "<div>\n",
       "<style scoped>\n",
       "    .dataframe tbody tr th:only-of-type {\n",
       "        vertical-align: middle;\n",
       "    }\n",
       "\n",
       "    .dataframe tbody tr th {\n",
       "        vertical-align: top;\n",
       "    }\n",
       "\n",
       "    .dataframe thead th {\n",
       "        text-align: right;\n",
       "    }\n",
       "</style>\n",
       "<table border=\"1\" class=\"dataframe\">\n",
       "  <thead>\n",
       "    <tr style=\"text-align: right;\">\n",
       "      <th></th>\n",
       "      <th>Source</th>\n",
       "      <th>ddof1</th>\n",
       "      <th>ddof2</th>\n",
       "      <th>F</th>\n",
       "      <th>p-unc</th>\n",
       "      <th>np2</th>\n",
       "    </tr>\n",
       "  </thead>\n",
       "  <tbody>\n",
       "    <tr>\n",
       "      <th>0</th>\n",
       "      <td>country</td>\n",
       "      <td>115</td>\n",
       "      <td>5799884</td>\n",
       "      <td>135832.373968</td>\n",
       "      <td>0.0</td>\n",
       "      <td>0.729238</td>\n",
       "    </tr>\n",
       "  </tbody>\n",
       "</table>\n",
       "</div>"
      ],
      "text/plain": [
       "    Source  ddof1    ddof2              F  p-unc       np2\n",
       "0  country    115  5799884  135832.373968    0.0  0.729238"
      ]
     },
     "execution_count": 19,
     "metadata": {},
     "output_type": "execute_result"
    }
   ],
   "source": [
    "pg.anova(data=df, dv='ln_y_child', between='country', detailed=False)"
   ]
  },
  {
   "cell_type": "markdown",
   "id": "4f8f2bb6",
   "metadata": {},
   "source": [
    "En considérant le logarithme du revenu, la variance expliquée est plus concluante, 73% contre 50% précédemment.\n",
    "\n"
   ]
  },
  {
   "cell_type": "markdown",
   "id": "bd19cf67",
   "metadata": {},
   "source": [
    "\n",
    "<a id='ccl'></a>\n",
    "<h2 style='color:#8677b2'>Conclusion </h2>"
   ]
  },
  {
   "cell_type": "markdown",
   "id": "1117ef7d",
   "metadata": {},
   "source": [
    "<div class=\"admonition note alert alert-info\" style=\"color:#4cb2ff\">\n",
    "<p>Les statistiques des tests H et F conduisent toutes deux à la conclusion qu'il existe une différence significative entre les médianes (ou les moyennes) des y_childs des différents pays (α = 0,05).</p>\n",
    "\n",
    "<p>Ainsi, même si la force du lien entre le pays d'origine et la répartition des revenus est forte (η2 = 0,50), la variance expliquée reste faible.</p>\n",
    "\n",
    "<p>Cependant, lorsque l'ANOVA est effectuée sur la transformation logarithmique du revenu, la variance expliquée est bien meilleure (η2 = 0,73).</p>\n",
    "</div>"
   ]
  },
  {
   "cell_type": "markdown",
   "id": "215e9d51",
   "metadata": {},
   "source": [
    "<a id='reg1'></a>\n",
    "# Régression linéaire du revenu enfant sur le revenu moyen du pays et l'indice de Gini"
   ]
  },
  {
   "cell_type": "markdown",
   "id": "2c4b7abf",
   "metadata": {},
   "source": [
    "<div class=\"alert alert-block alert-warning\">  \n",
    "Pour chacune des régressions suivantes, vous testerez 2 versions : l'une en exprimant le revenu moyen du pays et les revenus (parents & enfants) en logarithme (ln), l'autre en les laissant tels quels. Vous choisirez la version la plus performante pour répondre aux question.                                                   \n",
    "</div>  \n",
    "\n",
    "Appliquez une régression linéaire sur vos données, en incluant comme variables explicatives uniquement le revenu moyen du pays de l’individu et l’indice de Gini du pays de l’individu. Quel est le pourcentage de variance expliquée par votre modèle ?\n",
    "                                                            \n",
    "Selon ce modèle, donnez la décomposition de variance totale expliquée par :\n",
    "                                                            \n",
    "- le pays de naissance (ie. le revenu moyen et l’indice de Gini) ;\n",
    "- les autres facteurs non considérés dans le modèle (efforts, chance, etc.)."
   ]
  },
  {
   "cell_type": "markdown",
   "id": "85e88ca0",
   "metadata": {},
   "source": [
    "### Première Régression Linéaire : Revenu moyen du pays de l’individu et l’indice de Gini du pays de l’individu\n"
   ]
  },
  {
   "cell_type": "markdown",
   "id": "0412cd1a",
   "metadata": {},
   "source": [
    "le principe de la régression linéaire : La régression linéaire est une approche statistique pour modéliser la relation entre une variable dépendante et un ensemble donné de variables indépendantes. La régression permet de juger de la qualité d'explication de la variable dépendante par les variables indépendantes.\n",
    "\n",
    "Le modèle statistique sous-jacent est très simple, il s'agit d'une modèle linéaire qui est généralement écrit :\n",
    "y=constante + beta1 x1 + beta2 x2 + ... + erreur.\n",
    "\n",
    "L'estimation des paramètres de ce modèle se fait par l'estimateur des moindres carrés et la qualité d'explication est généralement évalué par le R².\n",
    "\n",
    "La qualité de prédiction est généralement mesurée avec le RMSE (racine de la somme des carrés des erreurs).\n",
    "\n"
   ]
  },
  {
   "cell_type": "code",
   "execution_count": 20,
   "id": "310deae5",
   "metadata": {},
   "outputs": [
    {
     "data": {
      "text/html": [
       "<table class=\"simpletable\">\n",
       "<caption>OLS Regression Results</caption>\n",
       "<tr>\n",
       "  <th>Dep. Variable:</th>         <td>y_child</td>     <th>  R-squared:         </th>  <td>   0.496</td>  \n",
       "</tr>\n",
       "<tr>\n",
       "  <th>Model:</th>                   <td>OLS</td>       <th>  Adj. R-squared:    </th>  <td>   0.496</td>  \n",
       "</tr>\n",
       "<tr>\n",
       "  <th>Method:</th>             <td>Least Squares</td>  <th>  F-statistic:       </th>  <td>2.858e+06</td> \n",
       "</tr>\n",
       "<tr>\n",
       "  <th>Date:</th>             <td>Sun, 08 May 2022</td> <th>  Prob (F-statistic):</th>   <td>  0.00</td>   \n",
       "</tr>\n",
       "<tr>\n",
       "  <th>Time:</th>                 <td>08:40:06</td>     <th>  Log-Likelihood:    </th> <td>-5.9310e+07</td>\n",
       "</tr>\n",
       "<tr>\n",
       "  <th>No. Observations:</th>      <td>5800000</td>     <th>  AIC:               </th>  <td>1.186e+08</td> \n",
       "</tr>\n",
       "<tr>\n",
       "  <th>Df Residuals:</th>          <td>5799997</td>     <th>  BIC:               </th>  <td>1.186e+08</td> \n",
       "</tr>\n",
       "<tr>\n",
       "  <th>Df Model:</th>              <td>     2</td>      <th>                     </th>      <td> </td>     \n",
       "</tr>\n",
       "<tr>\n",
       "  <th>Covariance Type:</th>      <td>nonrobust</td>    <th>                     </th>      <td> </td>     \n",
       "</tr>\n",
       "</table>"
      ],
      "text/plain": [
       "<class 'statsmodels.iolib.table.SimpleTable'>"
      ]
     },
     "execution_count": 20,
     "metadata": {},
     "output_type": "execute_result"
    }
   ],
   "source": [
    "lr1 = smf.ols('y_child ~ mj + Gj', data=df).fit()\n",
    "lr1.summary().tables[0]\n"
   ]
  },
  {
   "cell_type": "markdown",
   "id": "8517ea91",
   "metadata": {},
   "source": [
    "**Test global:**  \n",
    "H0: beta_GJ = beta_y_mj = 0  \n",
    "H1: beta_GJ != beta_y_mj != 0  \n",
    "F ~ 0.00 <<< alpha, on rejette H0, le modèle est globalement significatif"
   ]
  },
  {
   "cell_type": "code",
   "execution_count": 21,
   "id": "0100df82",
   "metadata": {},
   "outputs": [
    {
     "data": {
      "text/html": [
       "<table class=\"simpletable\">\n",
       "<tr>\n",
       "      <td></td>         <th>coef</th>     <th>std err</th>      <th>t</th>      <th>P>|t|</th>  <th>[0.025</th>    <th>0.975]</th>  \n",
       "</tr>\n",
       "<tr>\n",
       "  <th>Intercept</th> <td>-1.567e-09</td> <td>   14.699</td> <td>-1.07e-10</td> <td> 1.000</td> <td>  -28.809</td> <td>   28.809</td>\n",
       "</tr>\n",
       "<tr>\n",
       "  <th>mj</th>        <td>    1.0000</td> <td>    0.000</td> <td> 2234.874</td> <td> 0.000</td> <td>    0.999</td> <td>    1.001</td>\n",
       "</tr>\n",
       "<tr>\n",
       "  <th>Gj</th>        <td> 3.929e-09</td> <td>   33.529</td> <td> 1.17e-10</td> <td> 1.000</td> <td>  -65.715</td> <td>   65.715</td>\n",
       "</tr>\n",
       "</table>"
      ],
      "text/plain": [
       "<class 'statsmodels.iolib.table.SimpleTable'>"
      ]
     },
     "execution_count": 21,
     "metadata": {},
     "output_type": "execute_result"
    }
   ],
   "source": [
    "lr1.summary().tables[1]"
   ]
  },
  {
   "cell_type": "markdown",
   "id": "c9a2a834",
   "metadata": {},
   "source": [
    " **Test de significativité des variables:**\n",
    "   \n",
    "H0: beta_Gj = 0  \n",
    "H1: beta_Gj != 0  \n",
    "Le paramètre beta_Gj de la variable Gj (indice de gini) n'est pas significatif au niveau de test alpha (0.05)  \n",
    "En effet p-value ~ 1 > alpha, on accepte H0, le paramètre n'est pas significatif (beta_Gj = 0)  \n",
    "  \n",
    "H0: beta_y_mj = 0  \n",
    "H1: beta_y_mj != 0  \n",
    "Le paramètre beta_y_mj de la variable mj est significatif au niveau de test alpha (0.05)  \n",
    "En effet p-value ~ 0.00 <<< alpha, on rejette H0, le paramètre est significatif (beta_y_mj != 0)"
   ]
  },
  {
   "cell_type": "code",
   "execution_count": 22,
   "id": "09f6a531",
   "metadata": {},
   "outputs": [
    {
     "data": {
      "image/png": "[encoded data removed]",
      "text/plain": [
       "<Figure size 864x576 with 1 Axes>"
      ]
     },
     "metadata": {
      "needs_background": "light"
     },
     "output_type": "display_data"
    }
   ],
   "source": [
    "#Approche visuelle rapide de notre régression linéaire\n",
    "fig, ax = plt.subplots(figsize=(12, 8))\n",
    "fig = sm.graphics.plot_ccpr(lr1, \"mj\", ax=ax)\n"
   ]
  },
  {
   "cell_type": "markdown",
   "id": "f1941dab",
   "metadata": {},
   "source": [
    "<div class=\"admonition note alert alert-info\" style=\"color:#4cb2ff\">\n",
    "Ce modèle n'explique que 50% de la variance, nous ne sommes pas plus performant que l'ANOVA. Il peut s'agir d'un problème de linéarité, car les salaires ont tendance à évoluer de manière exponentielle. Nous analyserons ce modèle plus bas pour vérifier cette hypothèse.\n",
    "</div>"
   ]
  },
  {
   "cell_type": "markdown",
   "id": "75145f46",
   "metadata": {},
   "source": [
    "<a id='log1'></a>\n",
    "<h3 style='color:#8677b2'>Passage au logarithme du revenu enfant</h3>"
   ]
  },
  {
   "cell_type": "markdown",
   "id": "6e25aa85",
   "metadata": {},
   "source": [
    "[Haut de page](#sommaire)"
   ]
  },
  {
   "cell_type": "code",
   "execution_count": 23,
   "id": "12d3aee1",
   "metadata": {},
   "outputs": [
    {
     "data": {
      "text/html": [
       "<table class=\"simpletable\">\n",
       "<caption>OLS Regression Results</caption>\n",
       "<tr>\n",
       "  <th>Dep. Variable:</th>       <td>ln_y_child</td>    <th>  R-squared:         </th>  <td>   0.729</td>  \n",
       "</tr>\n",
       "<tr>\n",
       "  <th>Model:</th>                   <td>OLS</td>       <th>  Adj. R-squared:    </th>  <td>   0.729</td>  \n",
       "</tr>\n",
       "<tr>\n",
       "  <th>Method:</th>             <td>Least Squares</td>  <th>  F-statistic:       </th>  <td>7.793e+06</td> \n",
       "</tr>\n",
       "<tr>\n",
       "  <th>Date:</th>             <td>Sun, 08 May 2022</td> <th>  Prob (F-statistic):</th>   <td>  0.00</td>   \n",
       "</tr>\n",
       "<tr>\n",
       "  <th>Time:</th>                 <td>08:40:15</td>     <th>  Log-Likelihood:    </th> <td>-6.3181e+06</td>\n",
       "</tr>\n",
       "<tr>\n",
       "  <th>No. Observations:</th>      <td>5800000</td>     <th>  AIC:               </th>  <td>1.264e+07</td> \n",
       "</tr>\n",
       "<tr>\n",
       "  <th>Df Residuals:</th>          <td>5799997</td>     <th>  BIC:               </th>  <td>1.264e+07</td> \n",
       "</tr>\n",
       "<tr>\n",
       "  <th>Df Model:</th>              <td>     2</td>      <th>                     </th>      <td> </td>     \n",
       "</tr>\n",
       "<tr>\n",
       "  <th>Covariance Type:</th>      <td>nonrobust</td>    <th>                     </th>      <td> </td>     \n",
       "</tr>\n",
       "</table>"
      ],
      "text/plain": [
       "<class 'statsmodels.iolib.table.SimpleTable'>"
      ]
     },
     "execution_count": 23,
     "metadata": {},
     "output_type": "execute_result"
    }
   ],
   "source": [
    "lr2 = smf.ols('ln_y_child ~ Gj + ln_mj', data=df).fit()\n",
    "\n",
    "\n",
    "lr2.summary().tables[0]"
   ]
  },
  {
   "cell_type": "markdown",
   "id": "47c5ec27",
   "metadata": {},
   "source": [
    "**Test global:**  \n",
    "H0: beta_GJ = beta_ln_mj = 0  \n",
    "H1: beta_GJ != beta_ln_mj != 0  \n",
    "F ~ 0.00 <<< alpha, on rejette H0, le modèle est globalement significatif  "
   ]
  },
  {
   "cell_type": "code",
   "execution_count": 24,
   "id": "0dd57883",
   "metadata": {},
   "outputs": [
    {
     "data": {
      "text/html": [
       "<table class=\"simpletable\">\n",
       "<tr>\n",
       "      <td></td>         <th>coef</th>     <th>std err</th>      <th>t</th>      <th>P>|t|</th>  <th>[0.025</th>    <th>0.975]</th>  \n",
       "</tr>\n",
       "<tr>\n",
       "  <th>Intercept</th> <td>    0.4961</td> <td>    0.003</td> <td>  170.994</td> <td> 0.000</td> <td>    0.490</td> <td>    0.502</td>\n",
       "</tr>\n",
       "<tr>\n",
       "  <th>Gj</th>        <td>   -1.6523</td> <td>    0.004</td> <td> -471.886</td> <td> 0.000</td> <td>   -1.659</td> <td>   -1.645</td>\n",
       "</tr>\n",
       "<tr>\n",
       "  <th>ln_mj</th>     <td>    0.9864</td> <td>    0.000</td> <td> 3651.055</td> <td> 0.000</td> <td>    0.986</td> <td>    0.987</td>\n",
       "</tr>\n",
       "</table>"
      ],
      "text/plain": [
       "<class 'statsmodels.iolib.table.SimpleTable'>"
      ]
     },
     "execution_count": 24,
     "metadata": {},
     "output_type": "execute_result"
    }
   ],
   "source": [
    "lr2.summary().tables[1]"
   ]
  },
  {
   "cell_type": "markdown",
   "id": "2f2613ea",
   "metadata": {},
   "source": [
    " **Test de significativité:**\n",
    "   \n",
    "H0: beta_Gj = 0  \n",
    "H1: beta_Gj != 0  \n",
    "Le paramètre beta_Gj de la variable Gj (indice de gini) est significatif au niveau de test alpha (0.05)  \n",
    "En effet p-value ~ 0.00 <<< alpha, on rejette H0, le paramètre est significatif (beta_Gj != 0)  \n",
    "  \n",
    "H0: beta_ln_mj = 0  \n",
    "H1: beta_ln_mj != 0  \n",
    "Le paramètre beta_ln_mj de la variable ln_mj est significatif au niveau de test alpha (0.05)  \n",
    "En effet p-value ~ 0.00 <<< alpha, on rejette H0, le paramètre est significatif (beta_ln_mj != 0)"
   ]
  },
  {
   "cell_type": "code",
   "execution_count": 25,
   "id": "4183e87b",
   "metadata": {},
   "outputs": [
    {
     "data": {
      "image/png": "[encoded data removed]",
      "text/plain": [
       "<Figure size 864x576 with 1 Axes>"
      ]
     },
     "metadata": {
      "needs_background": "light"
     },
     "output_type": "display_data"
    }
   ],
   "source": [
    "#Approche visuelle rapide de notre régression linéaire\n",
    "fig, ax = plt.subplots(figsize=(12, 8))\n",
    "fig = sm.graphics.plot_ccpr(lr2, \"ln_mj\", ax=ax)\n"
   ]
  },
  {
   "cell_type": "markdown",
   "id": "b7e38b65",
   "metadata": {},
   "source": [
    "<a id='rsq1'></a>\n",
    "<h3 style='color:#8677b2'>Analyses de $R^2$</h3>"
   ]
  },
  {
   "cell_type": "markdown",
   "id": "239b550b",
   "metadata": {},
   "source": [
    "[Haut de page](#sommaire)"
   ]
  },
  {
   "cell_type": "code",
   "execution_count": 26,
   "id": "277768e9",
   "metadata": {},
   "outputs": [],
   "source": [
    "def decomposition_of_variances(MLR) :\n",
    "    \"\"\"\n",
    "    Parameters : \n",
    "        MLR : Multiple Linear Regression Model\n",
    "        \n",
    "    Return : \n",
    "        DataFrame with for each explanatory variable the explanation of the variance percentage of model.\n",
    "    \"\"\"\n",
    "    \n",
    "    data = sm.stats.anova_lm(MLR, typ=1)\n",
    "    ssq = data[['sum_sq']]\n",
    "    ssq = np.round(100 * ssq / ssq.sum(), 3)\n",
    "    ssq['sum_sq'] = ssq.sum_sq\n",
    "    ssq.columns = ['Explained Variance (%)']\n",
    "    return(ssq)"
   ]
  },
  {
   "cell_type": "code",
   "execution_count": 27,
   "id": "32f67983",
   "metadata": {
    "scrolled": true
   },
   "outputs": [
    {
     "data": {
      "text/html": [
       "<div>\n",
       "<style scoped>\n",
       "    .dataframe tbody tr th:only-of-type {\n",
       "        vertical-align: middle;\n",
       "    }\n",
       "\n",
       "    .dataframe tbody tr th {\n",
       "        vertical-align: top;\n",
       "    }\n",
       "\n",
       "    .dataframe thead th {\n",
       "        text-align: right;\n",
       "    }\n",
       "</style>\n",
       "<table border=\"1\" class=\"dataframe\">\n",
       "  <thead>\n",
       "    <tr style=\"text-align: right;\">\n",
       "      <th></th>\n",
       "      <th>Explained Variance (%)</th>\n",
       "    </tr>\n",
       "  </thead>\n",
       "  <tbody>\n",
       "    <tr>\n",
       "      <th>Gj</th>\n",
       "      <td>10.551</td>\n",
       "    </tr>\n",
       "    <tr>\n",
       "      <th>ln_mj</th>\n",
       "      <td>62.329</td>\n",
       "    </tr>\n",
       "    <tr>\n",
       "      <th>Residual</th>\n",
       "      <td>27.120</td>\n",
       "    </tr>\n",
       "  </tbody>\n",
       "</table>\n",
       "</div>"
      ],
      "text/plain": [
       "          Explained Variance (%)\n",
       "Gj                        10.551\n",
       "ln_mj                     62.329\n",
       "Residual                  27.120"
      ]
     },
     "execution_count": 27,
     "metadata": {},
     "output_type": "execute_result"
    }
   ],
   "source": [
    "decomposition_of_variances(lr2)"
   ]
  },
  {
   "cell_type": "markdown",
   "id": "eab4e75b",
   "metadata": {},
   "source": [
    "**Dans notre modèle:**\n",
    "\n",
    "La variable 'Gj' explique 10.55% de la variance de la variable 'ln_y_child'\n",
    "\n",
    "La variable 'ln_mj' explique 62.33% de la variance de la variable 'ln_y_child'\n",
    "\n",
    "Notre modèle explique 72.88% de la variance de la variable 'ln_y_child'\n",
    "\n"
   ]
  },
  {
   "cell_type": "markdown",
   "id": "cfe10244",
   "metadata": {},
   "source": [
    "<a id='vif1'></a>\n",
    "<h3 style='color:#8677b2'>Détection des problèmes de colinéarité</h3>"
   ]
  },
  {
   "cell_type": "markdown",
   "id": "d83c7cea",
   "metadata": {},
   "source": [
    "[Haut de page](#sommaire)"
   ]
  },
  {
   "cell_type": "code",
   "execution_count": 28,
   "id": "245fa184",
   "metadata": {},
   "outputs": [],
   "source": [
    "from statsmodels.stats.outliers_influence import variance_inflation_factor\n",
    "\n",
    "def VIF(MLR, variables) :\n",
    "    \n",
    "    '''\n",
    "    Parameters : \n",
    "        MLR : Multiple Linear Regression\n",
    "        variables : list, explanatory variables\n",
    "        inéaire multiple donné et la liste\n",
    "        \n",
    "    Return : \n",
    "        Dataframe \n",
    "    '''\n",
    "    \n",
    "    MEX = MLR.model.exog\n",
    "    return(pd.DataFrame({'VIF' : [variance_inflation_factor(MEX, i) for i in \n",
    "                                  np.arange(1, MEX.shape[1])]}, index=variables))"
   ]
  },
  {
   "cell_type": "code",
   "execution_count": 29,
   "id": "f8096cce",
   "metadata": {},
   "outputs": [
    {
     "data": {
      "text/html": [
       "<div>\n",
       "<style scoped>\n",
       "    .dataframe tbody tr th:only-of-type {\n",
       "        vertical-align: middle;\n",
       "    }\n",
       "\n",
       "    .dataframe tbody tr th {\n",
       "        vertical-align: top;\n",
       "    }\n",
       "\n",
       "    .dataframe thead th {\n",
       "        text-align: right;\n",
       "    }\n",
       "</style>\n",
       "<table border=\"1\" class=\"dataframe\">\n",
       "  <thead>\n",
       "    <tr style=\"text-align: right;\">\n",
       "      <th></th>\n",
       "      <th>VIF</th>\n",
       "    </tr>\n",
       "  </thead>\n",
       "  <tbody>\n",
       "    <tr>\n",
       "      <th>log_mj</th>\n",
       "      <td>1.076906</td>\n",
       "    </tr>\n",
       "    <tr>\n",
       "      <th>Gj</th>\n",
       "      <td>1.076906</td>\n",
       "    </tr>\n",
       "  </tbody>\n",
       "</table>\n",
       "</div>"
      ],
      "text/plain": [
       "             VIF\n",
       "log_mj  1.076906\n",
       "Gj      1.076906"
      ]
     },
     "execution_count": 29,
     "metadata": {},
     "output_type": "execute_result"
    }
   ],
   "source": [
    "VIF(lr2, ['log_mj', 'Gj'])"
   ]
  },
  {
   "cell_type": "markdown",
   "id": "2750e219",
   "metadata": {},
   "source": [
    "VIF_Gj et VIF_ln_y_child_moy < 10 (ou même 5)\n",
    "Pas de problème de colinéarité\n",
    "\n"
   ]
  },
  {
   "cell_type": "markdown",
   "id": "348c9737",
   "metadata": {},
   "source": [
    "<a id='breu1'></a>\n",
    "<h3 style='color:#8677b2'>Test d'homoscédasticité</h3>"
   ]
  },
  {
   "cell_type": "markdown",
   "id": "57865024",
   "metadata": {},
   "source": [
    "[Haut de page](#sommaire)"
   ]
  },
  {
   "cell_type": "code",
   "execution_count": 30,
   "id": "87275943",
   "metadata": {},
   "outputs": [
    {
     "name": "stdout",
     "output_type": "stream",
     "text": [
      "p value test Breusch Pagan: 0.0\n"
     ]
    }
   ],
   "source": [
    "_, pval, __, f_pval = statsmodels.stats.diagnostic.het_breuschpagan(lr2.resid, lr2.model.exog)\n",
    "print('p value test Breusch Pagan:', pval)"
   ]
  },
  {
   "cell_type": "markdown",
   "id": "59be8da1",
   "metadata": {},
   "source": [
    "H0: Homoscédasticité  \n",
    "H1: Hétéroscédasticité  \n",
    "pvalue <<< alpha, rejet de H0, il y a hétéroscédasticité des residus  \n",
    "Encore une fois, le modèle de regression linéaire multiple est suffisamment robuste pour les grands échantillons. 11_660 ici, c'est notre cas.  \n",
    "Plus on a de données à disposition, plus le modèle est capable de supporter des écarts important aux hypothèse (gaussienne et homoscédastique)"
   ]
  },
  {
   "cell_type": "code",
   "execution_count": 31,
   "id": "d4b12fba",
   "metadata": {},
   "outputs": [
    {
     "data": {
      "image/png": "[encoded data removed]",
      "text/plain": [
       "<Figure size 432x432 with 1 Axes>"
      ]
     },
     "metadata": {
      "needs_background": "light"
     },
     "output_type": "display_data"
    }
   ],
   "source": [
    "# Représentation des résidus en fonction des valeurs prédites\n",
    "plt.figure(figsize=(6,6))\n",
    "\n",
    "plt.scatter(lr2.resid, lr2.predict())\n",
    "\n",
    "plt.ylabel('Résidus')\n",
    "plt.xlabel('Valeurs prédites')\n",
    "plt.title('Nuage de point des residus\\n en fonction des valeurs prédites')\n",
    "\n",
    "plt.savefig('graph/homoscedasticity lr2.png')\n",
    "plt.show()"
   ]
  },
  {
   "cell_type": "markdown",
   "id": "c0b81004",
   "metadata": {},
   "source": [
    "<a id='norm1'></a>\n",
    "<h3 style='color:#8677b2'>Test de normalité des résidus</h3>"
   ]
  },
  {
   "cell_type": "markdown",
   "id": "c8c34a7a",
   "metadata": {},
   "source": [
    "[Haut de page](#sommaire)"
   ]
  },
  {
   "cell_type": "code",
   "execution_count": 32,
   "id": "b7421b27",
   "metadata": {},
   "outputs": [
    {
     "data": {
      "image/png": "[encoded data removed]",
      "text/plain": [
       "<Figure size 1080x576 with 1 Axes>"
      ]
     },
     "metadata": {
      "needs_background": "light"
     },
     "output_type": "display_data"
    }
   ],
   "source": [
    "pg.qqplot(lr2.resid, dist='norm', figsize=(15,8))\n",
    "plt.savefig('graph\\ Plot RL Residus lr2 .jpeg', dpi=300, bbox_inches='tight', pad_inches=0.5);"
   ]
  },
  {
   "cell_type": "markdown",
   "id": "7e27c49d",
   "metadata": {},
   "source": [
    "La droite de Henry represente la distribution empirique des residus et la distribution théorique d'une loi normale.\n",
    "Sauf pour les valeurs faibles de nos résidus, nos residus semblent plutôt alignés avec la distribution théorique d'une loi normale."
   ]
  },
  {
   "cell_type": "code",
   "execution_count": 34,
   "id": "082564f8",
   "metadata": {},
   "outputs": [
    {
     "data": {
      "text/plain": [
       "(1752380.5494372346, 0.0, -0.08087638371640837, 5.68794826995761)"
      ]
     },
     "execution_count": 34,
     "metadata": {},
     "output_type": "execute_result"
    }
   ],
   "source": [
    "# Test de Jarque-Bera (test de normalité basé sur le kurtosis et le skewness)\n",
    "JB_ln, JBpv_ln, skw_ln, kurt_ln = sm.stats.stattools.jarque_bera(lr2.resid)\n",
    "JB_ln, JBpv_ln, skw_ln, kurt_ln"
   ]
  },
  {
   "cell_type": "markdown",
   "id": "7ede7e2d",
   "metadata": {},
   "source": [
    "H0: Les données suivent une loi normale\n",
    "\n",
    "H1: Les données ne suivent pas une loi normale\n",
    "\n",
    "JBpv ~ 0, on rejette H0, d'après le test, les données ne suivent pas une loi normale"
   ]
  },
  {
   "cell_type": "code",
   "execution_count": 38,
   "id": "d06ce002",
   "metadata": {},
   "outputs": [
    {
     "data": {
      "image/png": "[encoded data removed]",
      "text/plain": [
       "<Figure size 720x720 with 1 Axes>"
      ]
     },
     "metadata": {
      "needs_background": "light"
     },
     "output_type": "display_data"
    }
   ],
   "source": [
    "#Représentation de la distribution marginale\n",
    "plt.figure(figsize=(10,10,))\n",
    "\n",
    "plt.hist(lr2.resid, 100, facecolor='g',)\n",
    "\n",
    "plt.title(f'Distribution marginale des résidus', fontsize=22)\n",
    "plt.ylabel('Nombre', fontsize=18)\n",
    "plt.yticks(fontsize=16)\n",
    "plt.xlabel('Résidus', fontsize=18)\n",
    "plt.xticks(fontsize=16)\n",
    "\n",
    "plt.tight_layout()\n",
    "\n",
    "plt.savefig('graph/dist_marg_resid_reg1 lr2.png')\n",
    "plt.show()"
   ]
  },
  {
   "cell_type": "markdown",
   "id": "dc843693",
   "metadata": {},
   "source": [
    "<div class=\"admonition note alert alert-info\" style=\"color:#4cb2ff\">\n",
    "Comme lors de l'étude de l'ANOVA, la version logarithmique est plus perfomante. Il ressort que le modèle 2, en prenant donc le logarithme du revenu et le logarithme du revenu moyen, la performance est plus optimale. Les p-valeurs sont d'ailleurs très faibles.\n",
    "\n",
    "Nous retrouvons le même niveau de performance que dans l'ANOVA du logarithme du revenu. Le modèle 2 peut expliquer 73% de la variance, le restant peut s'expliquer sur d'autres critères non pris en compte jusqu'ici, à savoir les classes de revenu des parents, ou encore des critères sociaux professionels, etc…</div>"
   ]
  },
  {
   "cell_type": "markdown",
   "id": "fb9c8c5b",
   "metadata": {},
   "source": [
    "<a id='reg2'></a>\n",
    "## Régression linéaire du revenu enfant sur le revenu moyen du pays, l'indice de Gini et la classe de revenus des parents"
   ]
  },
  {
   "cell_type": "markdown",
   "id": "09711859",
   "metadata": {},
   "source": [
    "<div class=\"alert alert-block alert-warning\">  \n",
    "Pour chacune des régressions suivantes, vous testerez 2 versions : l'une en exprimant le revenu moyen du pays et les revenus (parents & enfants) en logarithme (ln), l'autre en les laissant tels quels. Vous choisirez la version la plus performante pour répondre aux question.                                                   \n",
    "</div>  \n",
    "\n",
    "Appliquez une régression linéaire sur vos données, en incluant comme variables explicatives uniquement le revenu moyen du pays de l’individu et l’indice de Gini du pays de l’individu. Quel est le pourcentage de variance expliquée par votre modèle ?\n",
    "                                                            \n",
    "Selon ce modèle, donnez la décomposition de variance totale expliquée par :\n",
    "                                                            \n",
    "- le pays de naissance (ie. le revenu moyen et l’indice de Gini) ;\n",
    "- les autres facteurs non considérés dans le modèle (efforts, chance, etc.)."
   ]
  },
  {
   "cell_type": "markdown",
   "id": "b68a9dd3",
   "metadata": {},
   "source": [
    "<a id='test2'></a>\n",
    "<h3 style='color:#8677b2'>Tests de significativité</h3>"
   ]
  },
  {
   "cell_type": "markdown",
   "id": "18f16e4f",
   "metadata": {},
   "source": [
    "[Haut de page](#sommaire)"
   ]
  },
  {
   "cell_type": "code",
   "execution_count": 39,
   "id": "6634f587",
   "metadata": {},
   "outputs": [
    {
     "name": "stdout",
     "output_type": "stream",
     "text": [
      "                            OLS Regression Results                            \n",
      "==============================================================================\n",
      "Dep. Variable:                y_child   R-squared:                       0.521\n",
      "Model:                            OLS   Adj. R-squared:                  0.521\n",
      "Method:                 Least Squares   F-statistic:                 2.104e+06\n",
      "Date:                Sun, 08 May 2022   Prob (F-statistic):               0.00\n",
      "Time:                        08:46:14   Log-Likelihood:            -5.9164e+07\n",
      "No. Observations:             5800000   AIC:                         1.183e+08\n",
      "Df Residuals:                 5799996   BIC:                         1.183e+08\n",
      "Df Model:                           3                                         \n",
      "Covariance Type:            nonrobust                                         \n",
      "==============================================================================\n",
      "                 coef    std err          t      P>|t|      [0.025      0.975]\n",
      "------------------------------------------------------------------------------\n",
      "Intercept  -2590.0591     15.094   -171.590      0.000   -2619.644   -2560.475\n",
      "mj             1.0000      0.000   2291.802      0.000       0.999       1.001\n",
      "Gj            -0.2463     32.695     -0.008      0.994     -64.328      63.835\n",
      "c_i_parent    51.2982      0.094    547.271      0.000      51.114      51.482\n",
      "==============================================================================\n",
      "Omnibus:                  7400164.566   Durbin-Watson:                   0.003\n",
      "Prob(Omnibus):                  0.000   Jarque-Bera (JB):       2306086758.523\n",
      "Skew:                           6.890   Prob(JB):                         0.00\n",
      "Kurtosis:                      99.709   Cond. No.                     1.18e+05\n",
      "==============================================================================\n",
      "\n",
      "Notes:\n",
      "[1] Standard Errors assume that the covariance matrix of the errors is correctly specified.\n",
      "[2] The condition number is large, 1.18e+05. This might indicate that there are\n",
      "strong multicollinearity or other numerical problems.\n"
     ]
    }
   ],
   "source": [
    "lr3 = smf.ols('y_child ~ mj + Gj + c_i_parent', data=df).fit()\n",
    "print(lr3.summary())"
   ]
  },
  {
   "cell_type": "markdown",
   "id": "aad56da3",
   "metadata": {},
   "source": [
    "**Test global:**  \n",
    "H0: beta_GJ = beta_mj = beta_c_i_parent = 0  \n",
    "H1: beta_GJ != beta_mj = beta_c_i_parent != 0  \n",
    "F ~ 0.00 <<< alpha, on rejette H0, le modèle est globalement significatif"
   ]
  },
  {
   "cell_type": "markdown",
   "id": "2eb7be75",
   "metadata": {},
   "source": [
    "**Test de significativité:**\n",
    "   \n",
    "H0: beta_Gj = 0  \n",
    "H1: beta_Gj != 0  \n",
    "Le paramètre beta_Gj de la variable Gj (indice de gini) n'est pas significatif au niveau de test alpha (0.05)  \n",
    "En effet p-value ~ 1 > alpha, on accepte H0, le paramètre n'est pas significatif (beta_Gj = 0)  \n",
    "  \n",
    "H0: beta_mj = 0  \n",
    "H1: beta_mj != 0  \n",
    "Le paramètre beta_mj de la variable mj est significatif au niveau de test alpha (0.05)  \n",
    "En effet p-value ~ 0.00 <<< alpha, on rejette H0, le paramètre est significatif (beta_mj != 0)  \n",
    "  \n",
    "H0: beta_c_i_parent = 0  \n",
    "H1: beta_c_i_parent != 0  \n",
    "Le paramètre beta_c_i_parent de la variable c_i_parent est significatif au niveau de test alpha (0.05)  \n",
    "En effet p-value ~ 0.00 <<< alpha, on rejette H0, le paramètre est significatif (beta_c_i_parent != 0) "
   ]
  },
  {
   "cell_type": "code",
   "execution_count": 40,
   "id": "aa6dbdf2",
   "metadata": {},
   "outputs": [
    {
     "data": {
      "image/png": "[encoded data removed]",
      "text/plain": [
       "<Figure size 864x576 with 1 Axes>"
      ]
     },
     "metadata": {
      "needs_background": "light"
     },
     "output_type": "display_data"
    }
   ],
   "source": [
    "#Approche visuelle rapide de notre régression linéaire\n",
    "fig, ax = plt.subplots(figsize=(12, 8))\n",
    "fig = sm.graphics.plot_ccpr(lr3, \"mj\", ax=ax)\n"
   ]
  },
  {
   "cell_type": "code",
   "execution_count": 41,
   "id": "19993cd4",
   "metadata": {
    "scrolled": true
   },
   "outputs": [
    {
     "data": {
      "text/html": [
       "<div>\n",
       "<style scoped>\n",
       "    .dataframe tbody tr th:only-of-type {\n",
       "        vertical-align: middle;\n",
       "    }\n",
       "\n",
       "    .dataframe tbody tr th {\n",
       "        vertical-align: top;\n",
       "    }\n",
       "\n",
       "    .dataframe thead th {\n",
       "        text-align: right;\n",
       "    }\n",
       "</style>\n",
       "<table border=\"1\" class=\"dataframe\">\n",
       "  <thead>\n",
       "    <tr style=\"text-align: right;\">\n",
       "      <th></th>\n",
       "      <th>Explained Variance (%)</th>\n",
       "    </tr>\n",
       "  </thead>\n",
       "  <tbody>\n",
       "    <tr>\n",
       "      <th>mj</th>\n",
       "      <td>49.639</td>\n",
       "    </tr>\n",
       "    <tr>\n",
       "      <th>Gj</th>\n",
       "      <td>0.000</td>\n",
       "    </tr>\n",
       "    <tr>\n",
       "      <th>c_i_parent</th>\n",
       "      <td>2.473</td>\n",
       "    </tr>\n",
       "    <tr>\n",
       "      <th>Residual</th>\n",
       "      <td>47.888</td>\n",
       "    </tr>\n",
       "  </tbody>\n",
       "</table>\n",
       "</div>"
      ],
      "text/plain": [
       "            Explained Variance (%)\n",
       "mj                          49.639\n",
       "Gj                           0.000\n",
       "c_i_parent                   2.473\n",
       "Residual                    47.888"
      ]
     },
     "execution_count": 41,
     "metadata": {},
     "output_type": "execute_result"
    }
   ],
   "source": [
    "decomposition_of_variances(lr3)"
   ]
  },
  {
   "cell_type": "markdown",
   "id": "dc9b94af",
   "metadata": {},
   "source": [
    "<a id='log2'></a>\n",
    "<h3 style='color:#8677b2'>Passage au logarithme du revenu enfant</h3>"
   ]
  },
  {
   "cell_type": "markdown",
   "id": "b611c88c",
   "metadata": {},
   "source": [
    "[Haut de page](#sommaire)"
   ]
  },
  {
   "cell_type": "code",
   "execution_count": 42,
   "id": "338cf69a",
   "metadata": {},
   "outputs": [
    {
     "name": "stdout",
     "output_type": "stream",
     "text": [
      "                            OLS Regression Results                            \n",
      "==============================================================================\n",
      "Dep. Variable:             ln_y_child   R-squared:                       0.780\n",
      "Model:                            OLS   Adj. R-squared:                  0.780\n",
      "Method:                 Least Squares   F-statistic:                 6.856e+06\n",
      "Date:                Sun, 08 May 2022   Prob (F-statistic):               0.00\n",
      "Time:                        08:46:23   Log-Likelihood:            -5.7109e+06\n",
      "No. Observations:             5800000   AIC:                         1.142e+07\n",
      "Df Residuals:                 5799996   BIC:                         1.142e+07\n",
      "Df Model:                           3                                         \n",
      "Covariance Type:            nonrobust                                         \n",
      "==============================================================================\n",
      "                 coef    std err          t      P>|t|      [0.025      0.975]\n",
      "------------------------------------------------------------------------------\n",
      "Intercept     -0.0506      0.003    -19.072      0.000      -0.056      -0.045\n",
      "c_i_parent     0.0108   9.32e-06   1162.358      0.000       0.011       0.011\n",
      "ln_mj          0.9863      0.000   4053.945      0.000       0.986       0.987\n",
      "Gj            -1.6523      0.003   -523.982      0.000      -1.658      -1.646\n",
      "==============================================================================\n",
      "Omnibus:                   383818.646   Durbin-Watson:                   0.006\n",
      "Prob(Omnibus):                  0.000   Jarque-Bera (JB):          1783951.773\n",
      "Skew:                          -0.125   Prob(JB):                         0.00\n",
      "Kurtosis:                       5.705   Cond. No.                         824.\n",
      "==============================================================================\n",
      "\n",
      "Notes:\n",
      "[1] Standard Errors assume that the covariance matrix of the errors is correctly specified.\n"
     ]
    }
   ],
   "source": [
    "lr4 = smf.ols('ln_y_child ~ c_i_parent+ ln_mj +Gj', data=df).fit()\n",
    "print(lr4.summary())"
   ]
  },
  {
   "cell_type": "markdown",
   "id": "7c862ad7",
   "metadata": {},
   "source": [
    "**Test global:**  \n",
    "H0: beta_GJ = beta_ln_mj = beta_c_i_parent = 0  \n",
    "H1: beta_GJ != beta_ln_mj = beta_c_i_parent != 0  \n",
    "F ~ 0.00 <<< alpha, on rejette H0, le modèle est globalement significatif"
   ]
  },
  {
   "cell_type": "markdown",
   "id": "7521d11a",
   "metadata": {},
   "source": [
    "**Test de significativité:**\n",
    "   \n",
    "H0: beta_Gj = 0  \n",
    "H1: beta_Gj != 0  \n",
    "Le paramètre beta_Gj de la variable Gj (indice de gini) n'est pas significatif au niveau de test alpha (0.05)  \n",
    "En effet p-value ~ 0<<< alpha, on rejette H0, le paramètre est significatif (beta_Gj = 0)  \n",
    "  \n",
    "H0: beta_ln_mj = 0  \n",
    "H1: beta_ln_mj != 0  \n",
    "Le paramètre beta_ln_mj de la variable ln_mj est significatif au niveau de test alpha (0.05)  \n",
    "En effet p-value ~ 0.00 <<< alpha, on rejette H0, le paramètre est significatif (beta_ln_mj != 0)  \n",
    "  \n",
    "H0: beta_c_i_parent = 0  \n",
    "H1: beta_c_i_parent != 0  \n",
    "Le paramètre beta_c_i_parent de la variable c_i_parent est significatif au niveau de test alpha (0.05)  \n",
    "En effet p-value ~ 0.00 <<< alpha, on rejette H0, le paramètre est significatif (beta_c_i_parent != 0)  "
   ]
  },
  {
   "cell_type": "markdown",
   "id": "80adb33e",
   "metadata": {},
   "source": [
    "<a id='rsq2'></a>\n",
    "<h3 style='color:#8677b2'>Analyses de $R^2$</h3>"
   ]
  },
  {
   "cell_type": "markdown",
   "id": "a6eea9f7",
   "metadata": {},
   "source": [
    "[Haut de page](#sommaire)"
   ]
  },
  {
   "cell_type": "code",
   "execution_count": 43,
   "id": "9c169232",
   "metadata": {},
   "outputs": [
    {
     "data": {
      "text/html": [
       "<div>\n",
       "<style scoped>\n",
       "    .dataframe tbody tr th:only-of-type {\n",
       "        vertical-align: middle;\n",
       "    }\n",
       "\n",
       "    .dataframe tbody tr th {\n",
       "        vertical-align: top;\n",
       "    }\n",
       "\n",
       "    .dataframe thead th {\n",
       "        text-align: right;\n",
       "    }\n",
       "</style>\n",
       "<table border=\"1\" class=\"dataframe\">\n",
       "  <thead>\n",
       "    <tr style=\"text-align: right;\">\n",
       "      <th></th>\n",
       "      <th>Explained Variance (%)</th>\n",
       "    </tr>\n",
       "  </thead>\n",
       "  <tbody>\n",
       "    <tr>\n",
       "      <th>c_i_parent</th>\n",
       "      <td>5.128</td>\n",
       "    </tr>\n",
       "    <tr>\n",
       "      <th>ln_mj</th>\n",
       "      <td>71.835</td>\n",
       "    </tr>\n",
       "    <tr>\n",
       "      <th>Gj</th>\n",
       "      <td>1.041</td>\n",
       "    </tr>\n",
       "    <tr>\n",
       "      <th>Residual</th>\n",
       "      <td>21.996</td>\n",
       "    </tr>\n",
       "  </tbody>\n",
       "</table>\n",
       "</div>"
      ],
      "text/plain": [
       "            Explained Variance (%)\n",
       "c_i_parent                   5.128\n",
       "ln_mj                       71.835\n",
       "Gj                           1.041\n",
       "Residual                    21.996"
      ]
     },
     "execution_count": 43,
     "metadata": {},
     "output_type": "execute_result"
    }
   ],
   "source": [
    "decomposition_of_variances(lr4)"
   ]
  },
  {
   "cell_type": "markdown",
   "id": "2cb7ec8b",
   "metadata": {},
   "source": [
    "**Dans notre modèle:**\n",
    "\n",
    "La variable 'Gj' explique 1.041% de la variance de la variable 'ln_y_child'\n",
    "\n",
    "La variable 'ln_y_child_moy' explique 71.838% de la variance de la variable 'ln_y_child'\n",
    "\n",
    "La variable 'c_i_parent' explique 5.123% de la variance de la variable 'ln_y_child'\n",
    "\n",
    "Notre modèle explique 78% de la variance de la variable 'ln_y_child'"
   ]
  },
  {
   "cell_type": "markdown",
   "id": "4a52fe2a",
   "metadata": {},
   "source": [
    "<div class=\"admonition note alert alert-info\" style=\"color:#4cb2ff\">\n",
    "Le nouveau modèle est plus performant que son précédent (modele2), soit 73.7% au lieu de 72.9% - Le coefficient de détermination R² est plus élevé, l'influence du revenu des parents sur le revenu de l'enfant est substantielle, mis en évidence par le coefficient d'élasticité. Pour rappel, la corrélation entre le revenu de l'individu et le revenu de ses parents est mesurée par ce coefficient, le coefficient d'élasticité (mesure de la mobilité intergénérationnelle du revenu).En décomposant la variance, on voit donc que l'indice de Gini joue un petit rôle dans l'explication de ce modèle (<1%).\n",
    "</div>\n",
    "\n"
   ]
  },
  {
   "cell_type": "markdown",
   "id": "9f6fcf63",
   "metadata": {},
   "source": [
    "# Analysis of model results"
   ]
  },
  {
   "cell_type": "markdown",
   "id": "91183b15",
   "metadata": {},
   "source": [
    "<div class=\"admonition note alert alert-info\" style=\"color:#4cb2ff\">Tous les paramètres du modèle précédent ont une p-value < 5%, nous ne supprimons donc aucune variable. Tous les paramètres sont significatifs.\n",
    "</div>           \n",
    "\n",
    "\n"
   ]
  },
  {
   "cell_type": "markdown",
   "id": "3c47f98d",
   "metadata": {},
   "source": [
    "<a id='vif2'></a>\n",
    "<h3 style='color:#8677b2'>Détection des problèmes de colinéarité</h3>"
   ]
  },
  {
   "cell_type": "markdown",
   "id": "f7673127",
   "metadata": {},
   "source": [
    "[Haut de page](#sommaire)"
   ]
  },
  {
   "cell_type": "code",
   "execution_count": 44,
   "id": "117b122f",
   "metadata": {
    "scrolled": true
   },
   "outputs": [
    {
     "data": {
      "text/html": [
       "<div>\n",
       "<style scoped>\n",
       "    .dataframe tbody tr th:only-of-type {\n",
       "        vertical-align: middle;\n",
       "    }\n",
       "\n",
       "    .dataframe tbody tr th {\n",
       "        vertical-align: top;\n",
       "    }\n",
       "\n",
       "    .dataframe thead th {\n",
       "        text-align: right;\n",
       "    }\n",
       "</style>\n",
       "<table border=\"1\" class=\"dataframe\">\n",
       "  <thead>\n",
       "    <tr style=\"text-align: right;\">\n",
       "      <th></th>\n",
       "      <th>VIF</th>\n",
       "    </tr>\n",
       "  </thead>\n",
       "  <tbody>\n",
       "    <tr>\n",
       "      <th>ln_mj</th>\n",
       "      <td>1.000000</td>\n",
       "    </tr>\n",
       "    <tr>\n",
       "      <th>Gj</th>\n",
       "      <td>1.076906</td>\n",
       "    </tr>\n",
       "    <tr>\n",
       "      <th>c_i_parent</th>\n",
       "      <td>1.076906</td>\n",
       "    </tr>\n",
       "  </tbody>\n",
       "</table>\n",
       "</div>"
      ],
      "text/plain": [
       "                 VIF\n",
       "ln_mj       1.000000\n",
       "Gj          1.076906\n",
       "c_i_parent  1.076906"
      ]
     },
     "execution_count": 44,
     "metadata": {},
     "output_type": "execute_result"
    }
   ],
   "source": [
    "VIF(lr4, ['ln_mj', 'Gj', 'c_i_parent']) "
   ]
  },
  {
   "cell_type": "markdown",
   "id": "0d7a5a7a",
   "metadata": {},
   "source": [
    "VIF_Gj et VIF_ln_y_child_moy < 10 (ou 5)\n",
    "Pas de problème de colinéarité"
   ]
  },
  {
   "cell_type": "markdown",
   "id": "02f13079",
   "metadata": {},
   "source": [
    "<a id='norm2'></a>\n",
    "<h3 style='color:#8677b2'>Test de normalité des résidus</h3>"
   ]
  },
  {
   "cell_type": "markdown",
   "id": "9a999c73",
   "metadata": {},
   "source": [
    "[Haut de page](#sommaire)"
   ]
  },
  {
   "cell_type": "code",
   "execution_count": 45,
   "id": "9437925d",
   "metadata": {},
   "outputs": [
    {
     "data": {
      "image/png": "[encoded data removed]",
      "text/plain": [
       "<Figure size 1080x576 with 1 Axes>"
      ]
     },
     "metadata": {
      "needs_background": "light"
     },
     "output_type": "display_data"
    }
   ],
   "source": [
    "pg.qqplot(lr4.resid, dist='norm', figsize=(15,8))\n",
    "plt.savefig('graph\\Plot RL Residus.jpeg', dpi=300, bbox_inches='tight', pad_inches=0.5);\n",
    "\n"
   ]
  },
  {
   "cell_type": "code",
   "execution_count": 46,
   "id": "39cf1ed0",
   "metadata": {},
   "outputs": [
    {
     "name": "stdout",
     "output_type": "stream",
     "text": [
      "1783951.7734366213 0.0 -0.12479870155659724 5.705470484718527\n"
     ]
    }
   ],
   "source": [
    "#Jarque-Bera's normality test\n",
    "JB, JBpv,skw,kurt = sm.stats.stattools.jarque_bera(lr4.resid) \n",
    "print(JB, JBpv, skw, kurt) "
   ]
  },
  {
   "cell_type": "code",
   "execution_count": 47,
   "id": "88c2c2c9",
   "metadata": {},
   "outputs": [
    {
     "ename": "SyntaxError",
     "evalue": "invalid syntax (2731975968.py, line 1)",
     "output_type": "error",
     "traceback": [
      "\u001b[0;36m  File \u001b[0;32m\"/var/folders/_f/26lrg89j2fl2jhbph7w90xbw0000gn/T/ipykernel_1257/2731975968.py\"\u001b[0;36m, line \u001b[0;32m1\u001b[0m\n\u001b[0;31m    H0: Les données suivent une loi normale\u001b[0m\n\u001b[0m            ^\u001b[0m\n\u001b[0;31mSyntaxError\u001b[0m\u001b[0;31m:\u001b[0m invalid syntax\n"
     ]
    }
   ],
   "source": [
    "H0: Les données suivent une loi normale\n",
    "H1: Les données ne suivent pas une loi normale\n",
    "JBpv ~ 0, on rejette H0, d'après le test, les données ne suivent pas une loi normale"
   ]
  },
  {
   "cell_type": "code",
   "execution_count": null,
   "id": "b724b72c",
   "metadata": {},
   "outputs": [],
   "source": [
    "\n",
    "\n",
    "#Représentation de la distribution marginale\n",
    "plt.figure(figsize=(10,10))\n",
    "\n",
    "plt.hist(lr4.resid, 100, facecolor='g')\n",
    "plt.axvline(Xbar_ln2, color='r', linewidth=2)\n",
    "\n",
    "plt.title(f'Distribution marginale des résidus', fontsize=22)\n",
    "plt.ylabel('Nombre',fontsize=18)\n",
    "plt.yticks(fontsize=16)\n",
    "plt.xlabel('Résidus', fontsize=18)\n",
    "plt.xticks(fontsize=16)\n",
    "\n",
    "plt.tight_layout()\n",
    "\n",
    "plt.savefig('graph/dist_marg_resid_reg2.png')\n",
    "plt.show()"
   ]
  },
  {
   "cell_type": "markdown",
   "id": "5b1d0335",
   "metadata": {},
   "source": [
    "<div class=\"admonition note alert alert-info\" style=\"color:#4cb2ff\">\n",
    "D'après ce QQ-plot, l'hypothèse de normalité pourrait être remise en cause (les extrémités s'écartent relativement de la ligne rouge (représentant une distribution normale), suggérant des valeurs atypiques).\n",
    "\n",
    "\n",
    "<br><br>Néanmoins, le fait que les résidus ne soient pas très différents d'une distribution symétrique, et le fait que l'échantillon soit de taille suffisante (supérieure à 30) permettent de dire que les résultats obtenus par le modèle linéaire gaussien ne sont pas absurdes.\n",
    "\n",
    "<br><br> \n",
    "Notons cependant que la transformation logarithmique des données permet d'augmenter de manière assez satisfaisante la variance totale expliquée par le modèle.\n",
    "\n",
    "</div>"
   ]
  },
  {
   "cell_type": "markdown",
   "id": "504029b6",
   "metadata": {},
   "source": [
    "<a id='breu2'></a>\n",
    "<h3 style='color:#8677b2'>Test d'homoscédasticité</h3>"
   ]
  },
  {
   "cell_type": "markdown",
   "id": "d2001fec",
   "metadata": {},
   "source": [
    "[Haut de page](#sommaire)"
   ]
  },
  {
   "cell_type": "code",
   "execution_count": null,
   "id": "6d81ffe2",
   "metadata": {},
   "outputs": [],
   "source": [
    "def residual_variance(model):\n",
    "    plt.plot(model.fittedvalues, model.resid, color='#61ba86')\n",
    "    plt.title('Cloud of the residual variance ', fontsize=18, pad=30)\n",
    "    #plt.xlabel(\"GWh\", fontsize=16)\n",
    "    plt.ylabel(\"Résidus\", fontsize=16)\n",
    "    plt.savefig('data\\ Nuage de la variance des résidus RL.jpeg', dpi=300, bbox_inches='tight', pad_inches=0.5);"
   ]
  },
  {
   "cell_type": "code",
   "execution_count": null,
   "id": "525b6df7",
   "metadata": {},
   "outputs": [],
   "source": [
    "residual_variance(lr4)"
   ]
  },
  {
   "cell_type": "code",
   "execution_count": null,
   "id": "c31fcbc1",
   "metadata": {},
   "outputs": [],
   "source": [
    "variables = lr3.model.exog\n",
    "_, pval, __, f_pval = statsmodels.stats.diagnostic.het_breuschpagan(lr3.resid, variables)\n",
    "\n",
    "print('p value test Breusch Pagan:', pval)"
   ]
  },
  {
   "cell_type": "markdown",
   "id": "630ad256",
   "metadata": {},
   "source": [
    "H0: Homoscédasticité  \n",
    "H1: Hétéroscédasticité  \n",
    "pvalue <<< alpha, rejet de H0, il y a hétéroscédasticité des residus  \n"
   ]
  },
  {
   "cell_type": "markdown",
   "id": "b1e4371b",
   "metadata": {},
   "source": [
    "<div class=\"admonition note alert alert-info\" style=\"color:#4cb2ff\">\n",
    "\n",
    "Toutefois, le modèle de regression linéaire multiple est robuste pour les grands échantillon. 5_800_000 ici, c'est notre cas.  \n",
    "Plus on a de données à disposition, plus le modèle est capable de supporter des écarts important aux hypothèse (gaussienne et homoscédastique).</div>"
   ]
  },
  {
   "cell_type": "markdown",
   "id": "e1ccea7e",
   "metadata": {},
   "source": [
    "## Calculate the levers"
   ]
  },
  {
   "cell_type": "markdown",
   "id": "cd8533ff",
   "metadata": {},
   "source": [
    "<div class=\"admonition note alert alert-info\" style=\"color:#4cb2ff\">\n",
    "Nous allons mener des analyses sur des valeurs atypiques et/ou influentes en travaillant sur une dataframe appelée analyses.</div>"
   ]
  },
  {
   "cell_type": "markdown",
   "id": "3496c869",
   "metadata": {},
   "source": [
    "<div class=\"alert alert-block alert-warning\">\n",
    "Un effet de levier (Hi) mesure la distance entre la valeur X d'une observation et la moyenne des valeurs X de toutes les observations d'un ensemble de données. Les observations à fort effet de levier peuvent avoir un effet important sur la valeur ajustée et, par conséquent, sur le modèle de régression.</div>"
   ]
  },
  {
   "cell_type": "code",
   "execution_count": null,
   "id": "71653a55",
   "metadata": {},
   "outputs": [],
   "source": [
    "#keep only usefull columns\n",
    "dfa = df[['country','ln_y_child', 'ln_mj', 'Gj', 'c_i_parent']]\n",
    "dfa = dfa.set_index('pays')\n",
    "\n",
    "#n = the number of individuals in the sample, and p = the number of explanatory variables\n",
    "n = dfa.shape[0]\n",
    "p = dfa.shape[1] - 1\n",
    "\n",
    "analyses = pd.DataFrame({'obs' : dfa.index})"
   ]
  },
  {
   "cell_type": "code",
   "execution_count": null,
   "id": "c3e198d6",
   "metadata": {},
   "outputs": [],
   "source": [
    "#identification \n",
    "analyses['levier'] = lr4.get_influence().hat_matrix_diag\n",
    "\n",
    "seuil_levier = 2 * (p+1) / n\n",
    "\n",
    "analyses.loc[analyses['levier'] > seuil_levier, :].groupby('obs')['levier'].mean()"
   ]
  },
  {
   "cell_type": "code",
   "execution_count": null,
   "id": "2266585f",
   "metadata": {},
   "outputs": [],
   "source": [
    "round(analyses.loc[analyses['levier'] > seuil_levier, :].shape[0] / n, 2)"
   ]
  },
  {
   "cell_type": "code",
   "execution_count": null,
   "id": "fdd77444",
   "metadata": {},
   "outputs": [],
   "source": [
    "#an observation is suspect when ti* > st\n",
    "\n",
    "# standardized residuals\n",
    "res_stds = lr4.get_influence().resid_studentized_internal\n",
    "\n",
    "#standardized residues\n",
    "res_studs = res_stds*np.sqrt((n-p-2)/(n-p-1-res_stds**2)) \n",
    "\n",
    "#studentized residual threshold\n",
    "seuil_stud = st.t.ppf(0.975, df=n-p-2) \n",
    " \n",
    "#detection - abs val. > threshold\n",
    "atyp_stud = np.abs(res_studs) > seuil_stud \n",
    " \n",
    "#which ?\n",
    "#print(dfa.index[atyp_stud], res_studs[atyp_stud])"
   ]
  },
  {
   "cell_type": "code",
   "execution_count": null,
   "id": "2bc75afa",
   "metadata": {},
   "outputs": [],
   "source": [
    "#combination of leverage and studentized residue criteria\n",
    "atyp_levier = analyses['levier'] > seuil_levier \n",
    "pbm_infl = np.logical_or(atyp_levier,atyp_stud) \n",
    "dfa.index[pbm_infl].value_counts()"
   ]
  },
  {
   "cell_type": "code",
   "execution_count": null,
   "id": "ad097018",
   "metadata": {},
   "outputs": [],
   "source": [
    "round(dfa.index[pbm_infl].shape[0] / n, 2)"
   ]
  },
  {
   "cell_type": "code",
   "execution_count": null,
   "id": "3e26aa02",
   "metadata": {},
   "outputs": [],
   "source": []
  },
  {
   "cell_type": "code",
   "execution_count": null,
   "id": "032fa7c7",
   "metadata": {},
   "outputs": [],
   "source": []
  },
  {
   "cell_type": "code",
   "execution_count": null,
   "id": "056e761c",
   "metadata": {},
   "outputs": [],
   "source": []
  }
 ],
 "metadata": {
  "kernelspec": {
   "display_name": "Python 3 (ipykernel)",
   "language": "python",
   "name": "python3"
  },
  "language_info": {
   "codemirror_mode": {
    "name": "ipython",
    "version": 3
   },
   "file_extension": ".py",
   "mimetype": "text/x-python",
   "name": "python",
   "nbconvert_exporter": "python",
   "pygments_lexer": "ipython3",
   "version": "3.9.7"
  },
  "toc": {
   "base_numbering": 1,
   "nav_menu": {},
   "number_sections": true,
   "sideBar": true,
   "skip_h1_title": false,
   "title_cell": "Table of Contents",
   "title_sidebar": "Contents",
   "toc_cell": false,
   "toc_position": {
    "height": "calc(100% - 180px)",
    "left": "10px",
    "top": "150px",
    "width": "242px"
   },
   "toc_section_display": true,
   "toc_window_display": true
  }
 },
 "nbformat": 4,
 "nbformat_minor": 5
}
